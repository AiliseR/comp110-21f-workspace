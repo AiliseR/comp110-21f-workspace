{
 "cells": [
  {
   "cell_type": "markdown",
   "metadata": {},
   "source": [
    "# Hypothesis: I think the majority of people taking COMP 110 are not COMP majors"
   ]
  },
  {
   "cell_type": "markdown",
   "metadata": {},
   "source": [
    "### I'm adding the following code so that I don't have to rerun each cell when I want the program to work."
   ]
  },
  {
   "cell_type": "code",
   "execution_count": 57,
   "metadata": {},
   "outputs": [],
   "source": [
    "    %reload_ext autoreload\n",
    "    %autoreload 2"
   ]
  },
  {
   "cell_type": "markdown",
   "metadata": {},
   "source": [
    "### For my first step, I have to import code in order to read my data, and then I'll make it column-oriented so it's easier to read and analyze."
   ]
  },
  {
   "cell_type": "code",
   "execution_count": 58,
   "metadata": {},
   "outputs": [],
   "source": [
    "from data_utils import read_csv_rows, columnar\n",
    "data_in_rows: list[dict[str, str]] = read_csv_rows('../../data/survey.csv')\n",
    "data_in_columns: dict[str, list[str]] = columnar(data_in_rows)"
   ]
  },
  {
   "cell_type": "markdown",
   "metadata": {},
   "source": [
    "### I'm printing data_in_columns because I'm a visual learner and it helps me understand the orientation of my data. After doing this, I delete the output of the cell because it takes up a lot of space."
   ]
  },
  {
   "cell_type": "code",
   "execution_count": null,
   "metadata": {},
   "outputs": [],
   "source": [
    "print(data_in_columns)"
   ]
  },
  {
   "cell_type": "markdown",
   "metadata": {},
   "source": [
    "### Next, because I'm  focusing on majors, I need to isolate the column concerning my question. I understand that alongside the select function I also use the head function to view the first n values of data, but I also want to be able to see all of the data too, so I'll print it out later."
   ]
  },
  {
   "cell_type": "code",
   "execution_count": 87,
   "metadata": {},
   "outputs": [
    {
     "data": {
      "text/plain": [
       "{'comp_major': ['No', 'No', 'No', 'No', 'No', 'No', 'No', 'No', 'No', 'No']}"
      ]
     },
     "execution_count": 87,
     "metadata": {},
     "output_type": "execute_result"
    }
   ],
   "source": [
    "from data_utils import select, head\n",
    "are_you_comp: dict[str, list[str]] = select(data_in_columns, [\"comp_major\"])\n",
    "head(are_you_comp, 10)"
   ]
  },
  {
   "cell_type": "markdown",
   "metadata": {},
   "source": [
    "### Yet again printing my results to keep track of what's going on, then clearing the output."
   ]
  },
  {
   "cell_type": "code",
   "execution_count": null,
   "metadata": {},
   "outputs": [],
   "source": [
    "print(are_you_comp)"
   ]
  },
  {
   "cell_type": "markdown",
   "metadata": {},
   "source": [
    "### Now I need to see how many students responded with \"No\" as their answer to comp_major. My first step in doing this is to create a list with only the \"No\" responses, so that in my next step I can count them."
   ]
  },
  {
   "cell_type": "code",
   "execution_count": 82,
   "metadata": {},
   "outputs": [],
   "source": [
    "from data_utils import isolate\n",
    "only_no: list[str] = isolate(\"No\", \"comp_major\", are_you_comp)"
   ]
  },
  {
   "cell_type": "markdown",
   "metadata": {},
   "source": [
    "### Printing once more. Fun times."
   ]
  },
  {
   "cell_type": "code",
   "execution_count": null,
   "metadata": {},
   "outputs": [],
   "source": [
    "print(only_no)"
   ]
  },
  {
   "cell_type": "markdown",
   "metadata": {},
   "source": [
    "### Yay, it works! That took me longer than I'd like to admit; now I'll call the count function to count how long the list is. In all honesty, I don't know where to find this function, because the assignment implies it already exists but I can't find it in any of my assignments or back through the videos. So, I just made a funciton of the same name that does something similar."
   ]
  },
  {
   "cell_type": "code",
   "execution_count": 84,
   "metadata": {},
   "outputs": [
    {
     "name": "stdout",
     "output_type": "stream",
     "text": [
      "404\n"
     ]
    }
   ],
   "source": [
    "from data_utils import count\n",
    "number_of_nos: float = count(only_no)"
   ]
  },
  {
   "cell_type": "markdown",
   "metadata": {},
   "source": [
    "### Printing with an f-string to allow me to see the result with context."
   ]
  },
  {
   "cell_type": "code",
   "execution_count": 86,
   "metadata": {},
   "outputs": [
    {
     "name": "stdout",
     "output_type": "stream",
     "text": [
      "There are 404 students in COMP110 that are not majoring in computer science.\n"
     ]
    }
   ],
   "source": [
    "print(f\"There are {number_of_nos} students in COMP110 that are not majoring in computer science.\")"
   ]
  },
  {
   "cell_type": "markdown",
   "metadata": {},
   "source": [
    "### Great! Now that we have the number of students who aren't COMP majors, we'll divide that by the total number of students that answered the question to get the proportion of non-COMP majors in the class."
   ]
  },
  {
   "cell_type": "code",
   "execution_count": 89,
   "metadata": {},
   "outputs": [
    {
     "name": "stdout",
     "output_type": "stream",
     "text": [
      "573\n"
     ]
    }
   ],
   "source": [
    "from data_utils import count\n",
    "all_students: float = count(are_you_comp[\"comp_major\"])"
   ]
  },
  {
   "cell_type": "markdown",
   "metadata": {},
   "source": [
    "### So glad that my code is finally working. And now we print and do the last bit of math."
   ]
  },
  {
   "cell_type": "code",
   "execution_count": 93,
   "metadata": {},
   "outputs": [
    {
     "name": "stdout",
     "output_type": "stream",
     "text": [
      "There are a total of 573 in COMP110!\n",
      "This means that 70.50610820244329% of student in COMP110 are not majoring in computer science.\n"
     ]
    }
   ],
   "source": [
    "print(f\"There are a total of {all_students} in COMP110!\")\n",
    "proportion: float = number_of_nos / all_students\n",
    "percent: float = proportion * 100\n",
    "final: float = round(percent, 3)\n",
    "print(f\"This means that {percent}% of student in COMP110 are not majoring in computer science.\")\n"
   ]
  },
  {
   "cell_type": "markdown",
   "metadata": {},
   "source": [
    "### Conclusion:"
   ]
  }
 ],
 "metadata": {
  "interpreter": {
   "hash": "aee8b7b246df8f9039afb4144a1f6fd8d2ca17a180786b69acc140d282b71a49"
  },
  "kernelspec": {
   "display_name": "Python 3.9.6 64-bit",
   "name": "python3"
  },
  "language_info": {
   "codemirror_mode": {
    "name": "ipython",
    "version": 3
   },
   "file_extension": ".py",
   "mimetype": "text/x-python",
   "name": "python",
   "nbconvert_exporter": "python",
   "pygments_lexer": "ipython3",
   "version": "3.9.6"
  },
  "orig_nbformat": 4
 },
 "nbformat": 4,
 "nbformat_minor": 2
}
